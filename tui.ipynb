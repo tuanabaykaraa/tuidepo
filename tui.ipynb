{
  "nbformat": 4,
  "nbformat_minor": 0,
  "metadata": {
    "colab": {
      "name": "tui.ipynb",
      "provenance": [],
      "authorship_tag": "ABX9TyOB11Q7NhmyW5aOaaGvGGWo",
      "include_colab_link": true
    },
    "kernelspec": {
      "name": "python3",
      "display_name": "Python 3"
    },
    "language_info": {
      "name": "python"
    }
  },
  "cells": [
    {
      "cell_type": "markdown",
      "metadata": {
        "id": "view-in-github",
        "colab_type": "text"
      },
      "source": [
        "<a href=\"https://colab.research.google.com/github/tuanabaykaraa/tuidepo/blob/main/tui.ipynb\" target=\"_parent\"><img src=\"https://colab.research.google.com/assets/colab-badge.svg\" alt=\"Open In Colab\"/></a>"
      ]
    },
    {
      "cell_type": "code",
      "source": [
        "# Import Pandas, numpy, Seaborn, Matplotlib ve Sklearn\n",
        "import numpy as np\n",
        "import pandas as pd\n",
        "import seaborn as sb\n",
        "import matplotlib.pyplot as plt\n",
        "import sklearn as sk\n",
        "\n"
      ],
      "metadata": {
        "id": "OtkCabLyqCL9"
      },
      "execution_count": 3,
      "outputs": []
    }
  ]
}